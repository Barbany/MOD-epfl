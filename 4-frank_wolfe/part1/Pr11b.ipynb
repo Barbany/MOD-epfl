{
 "cells": [
  {
   "cell_type": "code",
   "execution_count": 1,
   "metadata": {},
   "outputs": [],
   "source": [
    "import scipy.io\n",
    "import numpy as np\n",
    "from scipy.sparse import csr_matrix\n",
    "from projL1 import projL1\n",
    "from time import time"
   ]
  },
  {
   "cell_type": "code",
   "execution_count": 2,
   "metadata": {},
   "outputs": [],
   "source": [
    "def projNuc(Z, kappa):\n",
    "    #PROJNUC This function implements the projection onto nuclear norm ball.\n",
    "    u, s, vh = np.linalg.svd(Z, full_matrices=False)\n",
    "    s_l1 = projL1(s, kappa)\n",
    "    return (u * s_l1) @ vh"
   ]
  },
  {
   "cell_type": "markdown",
   "metadata": {},
   "source": [
    "This function performs 5 runs and report average time"
   ]
  },
  {
   "cell_type": "code",
   "execution_count": 3,
   "metadata": {},
   "outputs": [],
   "source": [
    "def averaged_time(Z, kappa, data_takes, num_runs=10):\n",
    "    times = []\n",
    "    for i in range(1, num_runs+1):\n",
    "        tstart = time()\n",
    "        Z_proj = projNuc(Z, kappa)\n",
    "        elapsed = time() - tstart\n",
    "        times.append(elapsed)\n",
    "        print(str(i) + '. Proj for ' + data_takes + ' data took {} sec'.format(elapsed))\n",
    "    print('This process took {:.3f}+-{:.3f} sec after analizing {} runs'.format(np.mean(times),\n",
    "                                                                                np.std(times), num_runs))"
   ]
  },
  {
   "cell_type": "code",
   "execution_count": 4,
   "metadata": {},
   "outputs": [
    {
     "name": "stdout",
     "output_type": "stream",
     "text": [
      "1. Proj for 100k data took 1.5467145442962646 sec\n",
      "2. Proj for 100k data took 1.3932392597198486 sec\n",
      "3. Proj for 100k data took 1.3941683769226074 sec\n",
      "4. Proj for 100k data took 1.3770391941070557 sec\n",
      "5. Proj for 100k data took 1.3610055446624756 sec\n",
      "6. Proj for 100k data took 1.3536536693572998 sec\n",
      "7. Proj for 100k data took 1.357839822769165 sec\n",
      "8. Proj for 100k data took 1.646808385848999 sec\n",
      "9. Proj for 100k data took 1.7229139804840088 sec\n",
      "10. Proj for 100k data took 1.3634488582611084 sec\n",
      "This process took 1.452+-0.129 sec after analizing 10 runs\n"
     ]
    }
   ],
   "source": [
    "data = scipy.io.loadmat('./dataset/ml-100k/ub_base')  # load 100k dataset\n",
    "\n",
    "Rating = data['Rating'].flatten()\n",
    "UserID = data['UserID'].flatten() - 1  # Python indexing starts from 0 whereas Matlab from 1\n",
    "MovID = data['MovID'].flatten() - 1    # Python indexing starts from 0 whereas Matlab from 1\n",
    "\n",
    "nM = np.amax(data['MovID'])\n",
    "nU = np.amax(data['UserID'])\n",
    "\n",
    "Z = csr_matrix((Rating, (MovID, UserID)),shape=(nM, nU),dtype=float).toarray()\n",
    "kappa = 5000\n",
    "\n",
    "averaged_time(Z, kappa, '100k')"
   ]
  },
  {
   "cell_type": "code",
   "execution_count": 5,
   "metadata": {},
   "outputs": [
    {
     "name": "stdout",
     "output_type": "stream",
     "text": [
      "1. Proj for 1M data took 76.16440486907959 sec\n",
      "2. Proj for 1M data took 74.99347686767578 sec\n",
      "3. Proj for 1M data took 74.62046027183533 sec\n",
      "4. Proj for 1M data took 81.9343888759613 sec\n",
      "5. Proj for 1M data took 76.35615754127502 sec\n",
      "6. Proj for 1M data took 74.83433938026428 sec\n",
      "7. Proj for 1M data took 82.34572529792786 sec\n",
      "8. Proj for 1M data took 82.20451354980469 sec\n",
      "9. Proj for 1M data took 75.76599168777466 sec\n",
      "10. Proj for 1M data took 74.54405355453491 sec\n",
      "This process took 77.376+-3.188 sec after analizing 10 runs\n"
     ]
    }
   ],
   "source": [
    "# NOTE: This one can take few minutes!\n",
    "data = scipy.io.loadmat('./dataset/ml-1m/ml1m_base')  # load 1M dataset\n",
    "\n",
    "Rating = data['Rating'].flatten()\n",
    "UserID = data['UserID'].flatten() - 1  # Python indexing starts from 0 whereas Matlab from 1\n",
    "MovID = data['MovID'].flatten() - 1    # Python indexing starts from 0 whereas Matlab from 1\n",
    "\n",
    "nM = np.amax(data['MovID'])\n",
    "nU = np.amax(data['UserID'])\n",
    "\n",
    "Z = csr_matrix((Rating, (MovID, UserID)),shape=(nM, nU),dtype=float).toarray()\n",
    "kappa = 5000\n",
    "\n",
    "averaged_time(Z, kappa, '1M')"
   ]
  }
 ],
 "metadata": {
  "anaconda-cloud": {},
  "kernelspec": {
   "display_name": "Python-deep",
   "language": "python",
   "name": "envname"
  },
  "language_info": {
   "codemirror_mode": {
    "name": "ipython",
    "version": 3
   },
   "file_extension": ".py",
   "mimetype": "text/x-python",
   "name": "python",
   "nbconvert_exporter": "python",
   "pygments_lexer": "ipython3",
   "version": "3.7.3"
  }
 },
 "nbformat": 4,
 "nbformat_minor": 2
}
