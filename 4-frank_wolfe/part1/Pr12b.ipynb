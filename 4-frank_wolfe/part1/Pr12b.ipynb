{
 "cells": [
  {
   "cell_type": "code",
   "execution_count": 1,
   "metadata": {},
   "outputs": [],
   "source": [
    "import scipy.io\n",
    "import numpy as np\n",
    "from scipy.sparse import csr_matrix\n",
    "from scipy.sparse import linalg\n",
    "from time import time"
   ]
  },
  {
   "cell_type": "code",
   "execution_count": 2,
   "metadata": {},
   "outputs": [],
   "source": [
    "def sharpNuc(Z, kappa):\n",
    "    #SHARPNUC This function implements the sharp operator for the nuclear norm ball constraint.\n",
    "    u, s, vt = linalg.svds(Z, k=1)\n",
    "    return - kappa * u @ vt"
   ]
  },
  {
   "cell_type": "markdown",
   "metadata": {},
   "source": [
    "This function performs 5 runs and report average time"
   ]
  },
  {
   "cell_type": "code",
   "execution_count": 3,
   "metadata": {},
   "outputs": [],
   "source": [
    "def averaged_time(Z, kappa, data_takes, num_runs=10):\n",
    "    times = []\n",
    "    for i in range(1, num_runs+1):\n",
    "        tstart = time()\n",
    "        Z_proj = projNuc(Z, kappa)\n",
    "        elapsed = time() - tstart\n",
    "        times.append(elapsed)\n",
    "        print(str(i) + '. Proj for ' + data_takes + ' data took {} sec'.format(elapsed))\n",
    "    print('This process took {0:.3f}+-{0:.3f} sec after analizing {} runs'.format(np.mean(times),\n",
    "                                                                              np.std(times), num_runs))"
   ]
  },
  {
   "cell_type": "markdown",
   "metadata": {},
   "source": [
    "This function performs 5 runs and report average time"
   ]
  },
  {
   "cell_type": "code",
   "execution_count": 4,
   "metadata": {},
   "outputs": [],
   "source": [
    "def averaged_time(Z, kappa, data_takes, num_runs=10):\n",
    "    times = []\n",
    "    for i in range(1, num_runs+1):\n",
    "        tstart = time()\n",
    "        Z_proj = sharpNuc(Z, kappa)\n",
    "        elapsed = time() - tstart\n",
    "        times.append(elapsed)\n",
    "        print(str(i) + '. Proj for ' + data_takes + ' data took {} sec'.format(elapsed))\n",
    "    print('This process took {:.3f}+-{:.3f} sec after analizing {} runs'.format(np.mean(times),\n",
    "                                                                                np.std(times), num_runs))"
   ]
  },
  {
   "cell_type": "code",
   "execution_count": 5,
   "metadata": {},
   "outputs": [
    {
     "name": "stdout",
     "output_type": "stream",
     "text": [
      "1. Proj for 100k data took 0.029695510864257812 sec\n",
      "2. Proj for 100k data took 0.036905527114868164 sec\n",
      "3. Proj for 100k data took 0.03251361846923828 sec\n",
      "4. Proj for 100k data took 0.03148794174194336 sec\n",
      "5. Proj for 100k data took 0.02295207977294922 sec\n",
      "6. Proj for 100k data took 0.024388551712036133 sec\n",
      "7. Proj for 100k data took 0.02313685417175293 sec\n",
      "8. Proj for 100k data took 0.023251056671142578 sec\n",
      "9. Proj for 100k data took 0.032680511474609375 sec\n",
      "10. Proj for 100k data took 0.029968738555908203 sec\n",
      "This process took 0.029+-0.005 sec after analizing 10 runs\n"
     ]
    }
   ],
   "source": [
    "data = scipy.io.loadmat('./dataset/ml-100k/ub_base')  # load 100k dataset\n",
    "\n",
    "Rating = data['Rating'].flatten()\n",
    "UserID = data['UserID'].flatten() - 1  # Python indexing starts from 0 whereas Matlab from 1\n",
    "MovID = data['MovID'].flatten() - 1    # Python indexing starts from 0 whereas Matlab from 1\n",
    "\n",
    "nM = np.amax(data['MovID'])\n",
    "nU = np.amax(data['UserID'])\n",
    "\n",
    "Z = csr_matrix((Rating, (MovID, UserID)),shape=(nM, nU),dtype=float)\n",
    "kappa = 5000\n",
    "\n",
    "averaged_time(Z, kappa, '100k')"
   ]
  },
  {
   "cell_type": "code",
   "execution_count": 6,
   "metadata": {},
   "outputs": [
    {
     "name": "stdout",
     "output_type": "stream",
     "text": [
      "1. Proj for 1M data took 0.2733113765716553 sec\n",
      "2. Proj for 1M data took 0.29619622230529785 sec\n",
      "3. Proj for 1M data took 0.29180097579956055 sec\n",
      "4. Proj for 1M data took 0.29906344413757324 sec\n",
      "5. Proj for 1M data took 0.297499418258667 sec\n",
      "6. Proj for 1M data took 0.2947266101837158 sec\n",
      "7. Proj for 1M data took 0.30373668670654297 sec\n",
      "8. Proj for 1M data took 0.29648423194885254 sec\n",
      "9. Proj for 1M data took 0.29363203048706055 sec\n",
      "10. Proj for 1M data took 0.2945406436920166 sec\n",
      "This process took 0.294+-0.008 sec after analizing 10 runs\n"
     ]
    }
   ],
   "source": [
    "# NOTE: This one can take few minutes!\n",
    "data = scipy.io.loadmat('./dataset/ml-1m/ml1m_base')  # load 1M dataset\n",
    "\n",
    "Rating = data['Rating'].flatten()\n",
    "UserID = data['UserID'].flatten() - 1  # Python indexing starts from 0 whereas Matlab from 1\n",
    "MovID = data['MovID'].flatten() - 1    # Python indexing starts from 0 whereas Matlab from 1\n",
    "\n",
    "nM = np.amax(data['MovID'])\n",
    "nU = np.amax(data['UserID'])\n",
    "\n",
    "Z = csr_matrix((Rating, (MovID, UserID)),shape=(nM, nU),dtype=float)\n",
    "kappa = 5000\n",
    "\n",
    "averaged_time(Z, kappa, '1M')"
   ]
  }
 ],
 "metadata": {
  "anaconda-cloud": {},
  "kernelspec": {
   "display_name": "Python-deep",
   "language": "python",
   "name": "envname"
  },
  "language_info": {
   "codemirror_mode": {
    "name": "ipython",
    "version": 3
   },
   "file_extension": ".py",
   "mimetype": "text/x-python",
   "name": "python",
   "nbconvert_exporter": "python",
   "pygments_lexer": "ipython3",
   "version": "3.7.3"
  }
 },
 "nbformat": 4,
 "nbformat_minor": 2
}
